{
  "nbformat": 4,
  "nbformat_minor": 0,
  "metadata": {
    "colab": {
      "name": "DA1.ipynb",
      "provenance": [],
      "collapsed_sections": [],
      "authorship_tag": "ABX9TyP8FbiF9y/pyFxLFS8cj2BT",
      "include_colab_link": true
    },
    "kernelspec": {
      "name": "python3",
      "display_name": "Python 3"
    },
    "language_info": {
      "name": "python"
    }
  },
  "cells": [
    {
      "cell_type": "markdown",
      "metadata": {
        "id": "view-in-github",
        "colab_type": "text"
      },
      "source": [
        "<a href=\"https://colab.research.google.com/github/JonatanPolanco/CIG_Da1_Project/blob/main/DA1.ipynb\" target=\"_parent\"><img src=\"https://colab.research.google.com/assets/colab-badge.svg\" alt=\"Open In Colab\"/></a>"
      ]
    },
    {
      "cell_type": "markdown",
      "metadata": {
        "id": "6QCVTSldyXQ0"
      },
      "source": [
        "**Vehicles Productivity analysis by month, week and day** - Jonatan Polanco CIG Intern"
      ]
    },
    {
      "cell_type": "code",
      "metadata": {
        "id": "ZNt1pdbS_2oW"
      },
      "source": [
        "#importing libraries\n",
        "\n",
        "import numpy as np\n",
        "from scipy import stats\n",
        "import matplotlib.pyplot as plt\n",
        "import pandas as pd  \n",
        "import plotly.express as px   #para los mapas\n",
        "import seaborn as sns\n",
        "from numpy import array\n",
        "from datetime import datetime as dt, date, timedelta\n",
        "\n",
        "from pydrive.auth import GoogleAuth\n",
        "from pydrive.drive import GoogleDrive\n",
        "from google.colab import files\n",
        "from google.colab import drive\n",
        "from datetime import time"
      ],
      "execution_count": null,
      "outputs": []
    },
    {
      "cell_type": "code",
      "metadata": {
        "id": "PWq4KyMAQF7B"
      },
      "source": [
        ""
      ],
      "execution_count": null,
      "outputs": []
    },
    {
      "cell_type": "markdown",
      "metadata": {
        "id": "5D9yjGe8ySpf"
      },
      "source": [
        "**Data Analysis by month**"
      ]
    },
    {
      "cell_type": "code",
      "metadata": {
        "colab": {
          "base_uri": "https://localhost:8080/",
          "height": 206
        },
        "id": "p9AioOeyAkrk",
        "outputId": "c9f3c9b8-6f8f-4df7-fb42-26432c5ac563"
      },
      "source": [
        "#Load data\n",
        "\n",
        "#zfile = 'detailed_report_by_driver.xlsx'\n",
        "#df = pd.read_excel(file ,skiprows=11)\n",
        "\n",
        "#Data pre-processing\n",
        "\n",
        "#df = df.drop(range(2))\n",
        "#df = df.drop(['Driver Name'], axis=1)\n",
        "#df = df.drop(['HYDR(hour)'], axis=1)\n",
        "#df = df.drop(['TRACK(hour)'], axis=1)\n",
        "#df = df.drop(['Shut Down'], axis=1)\n",
        "#df = df.reset_index().drop(['index'], axis=1)\n",
        "#df = df.dropna()\n",
        "\n",
        "file = 'detailed_report_by_driver.xls.xlsx'\n",
        "df = pd.read_excel(file)\n",
        "\n",
        "#df=df.drop(['Unnamed: 2'], axis=1)\n",
        "df= df.drop(['Driver Name'], axis=1)\n",
        "df['Date'] = pd.to_datetime(df['Date'])\n",
        "df['Date'] = df['Date'].dt.strftime(\"%d/%m/%y\")\n",
        "df['Duration'] = pd.to_timedelta(df.Duration.astype(str))\n",
        "df = df.rename(columns={'SEAT(HH:MM)': 'SEAT'})   # SEAT(HH:MM)\n",
        "df['SEAT'] = pd.to_timedelta(df['SEAT'].astype(str))\n",
        "#df = df.rename(columns={'SEAT(hour)': 'SEAT'})\n",
        "#df['SEAT'] = pd.to_timedelta(df['SEAT'].astype(str))\n",
        "\n",
        "df.head()"
      ],
      "execution_count": null,
      "outputs": [
        {
          "output_type": "execute_result",
          "data": {
            "text/html": [
              "<div>\n",
              "<style scoped>\n",
              "    .dataframe tbody tr th:only-of-type {\n",
              "        vertical-align: middle;\n",
              "    }\n",
              "\n",
              "    .dataframe tbody tr th {\n",
              "        vertical-align: top;\n",
              "    }\n",
              "\n",
              "    .dataframe thead th {\n",
              "        text-align: right;\n",
              "    }\n",
              "</style>\n",
              "<table border=\"1\" class=\"dataframe\">\n",
              "  <thead>\n",
              "    <tr style=\"text-align: right;\">\n",
              "      <th></th>\n",
              "      <th>Date</th>\n",
              "      <th>Vehicle ID</th>\n",
              "      <th>Fleet No</th>\n",
              "      <th>Start Time</th>\n",
              "      <th>End Time</th>\n",
              "      <th>Duration</th>\n",
              "      <th>HYDR(HH:MM)</th>\n",
              "      <th>TRACK(HH:MM)</th>\n",
              "      <th>SEAT</th>\n",
              "      <th>Shut Down</th>\n",
              "    </tr>\n",
              "  </thead>\n",
              "  <tbody>\n",
              "    <tr>\n",
              "      <th>0</th>\n",
              "      <td>24/11/21</td>\n",
              "      <td>1032</td>\n",
              "      <td>308FGJ35-30185</td>\n",
              "      <td>2021-11-24 13:58:58</td>\n",
              "      <td>2021-11-24 14:12:25</td>\n",
              "      <td>0 days 00:13:27</td>\n",
              "      <td>-</td>\n",
              "      <td>-</td>\n",
              "      <td>0 days</td>\n",
              "      <td>Key</td>\n",
              "    </tr>\n",
              "    <tr>\n",
              "      <th>1</th>\n",
              "      <td>24/11/21</td>\n",
              "      <td>1032</td>\n",
              "      <td>308FGJ35-30185</td>\n",
              "      <td>2021-11-24 14:15:29</td>\n",
              "      <td>2021-11-24 14:27:35</td>\n",
              "      <td>0 days 00:12:06</td>\n",
              "      <td>-</td>\n",
              "      <td>-</td>\n",
              "      <td>0 days</td>\n",
              "      <td>Key</td>\n",
              "    </tr>\n",
              "    <tr>\n",
              "      <th>2</th>\n",
              "      <td>22/11/21</td>\n",
              "      <td>1032</td>\n",
              "      <td>308FGJ35-30185</td>\n",
              "      <td>2021-11-22 20:14:56</td>\n",
              "      <td>2021-11-22 20:35:18</td>\n",
              "      <td>0 days 00:20:22</td>\n",
              "      <td>-</td>\n",
              "      <td>-</td>\n",
              "      <td>0 days</td>\n",
              "      <td>Key</td>\n",
              "    </tr>\n",
              "    <tr>\n",
              "      <th>3</th>\n",
              "      <td>22/11/21</td>\n",
              "      <td>1032</td>\n",
              "      <td>308FGJ35-30185</td>\n",
              "      <td>2021-11-22 20:38:34</td>\n",
              "      <td>2021-11-22 21:29:43</td>\n",
              "      <td>0 days 00:51:09</td>\n",
              "      <td>-</td>\n",
              "      <td>-</td>\n",
              "      <td>0 days</td>\n",
              "      <td>Key</td>\n",
              "    </tr>\n",
              "    <tr>\n",
              "      <th>4</th>\n",
              "      <td>22/11/21</td>\n",
              "      <td>1032</td>\n",
              "      <td>308FGJ35-30185</td>\n",
              "      <td>2021-11-22 21:35:59</td>\n",
              "      <td>2021-11-22 23:16:54</td>\n",
              "      <td>0 days 01:40:55</td>\n",
              "      <td>-</td>\n",
              "      <td>-</td>\n",
              "      <td>0 days</td>\n",
              "      <td>Key</td>\n",
              "    </tr>\n",
              "  </tbody>\n",
              "</table>\n",
              "</div>"
            ],
            "text/plain": [
              "       Date  Vehicle ID        Fleet No  ... TRACK(HH:MM)   SEAT Shut Down\n",
              "0  24/11/21        1032  308FGJ35-30185  ...            - 0 days       Key\n",
              "1  24/11/21        1032  308FGJ35-30185  ...            - 0 days       Key\n",
              "2  22/11/21        1032  308FGJ35-30185  ...            - 0 days       Key\n",
              "3  22/11/21        1032  308FGJ35-30185  ...            - 0 days       Key\n",
              "4  22/11/21        1032  308FGJ35-30185  ...            - 0 days       Key\n",
              "\n",
              "[5 rows x 10 columns]"
            ]
          },
          "metadata": {},
          "execution_count": 124
        }
      ]
    },
    {
      "cell_type": "code",
      "metadata": {
        "id": "8rTerkW-vefl"
      },
      "source": [
        "# Download pre-Processing Dataframe as excel (xlsx) file\n",
        "\n",
        "#df = df.to_excel(\"detailed_report_by_driver_BMW.xlsx\")\n",
        "#files.download('detailed_report_by_driver_BMW.xlsx')"
      ],
      "execution_count": null,
      "outputs": []
    },
    {
      "cell_type": "code",
      "metadata": {
        "id": "3u6US4dWsxjU"
      },
      "source": [
        "\n",
        "#Productivity analysis by truck (Monthly)\n",
        "\n",
        "id = df['Vehicle ID']\n",
        "vehicles = id.drop_duplicates()\n",
        "vehicles = vehicles.reset_index().drop(['index'], axis=1)\n",
        "N_Vehicles = len(vehicles)\n",
        "#print(vehicles,N_Vehicles )\n",
        "\n",
        "required_hours = 12       # Working hours required by the company\n",
        "X = [None] * N_Vehicles\n",
        "X_ = {}   \n",
        "Day = [None] * N_Vehicles\n",
        "productivity = [None] * N_Vehicles\n",
        "last = [None] * N_Vehicles\n",
        "\n",
        "\n",
        "#Get total hours by vehicle\n",
        "for i in range(N_Vehicles):\n",
        "  \n",
        "  X[i] = df[df['Vehicle ID'] == vehicles['Vehicle ID'].iloc[i]].Duration.sum()  #Truck duration sum\n",
        "\n",
        "  X_[i] = df[df['Vehicle ID'] == vehicles['Vehicle ID'].iloc[i]]  #Creates a Dataframe by vehicle\n",
        "  Day[i] = len(X_[i]['Date'].drop_duplicates())  #Get the work day's by vehicle\n",
        "\n",
        "  X[i] = (X[i].days + X[i].seconds/86400)*24   #Set to hours\n",
        "  X[i] = round(X[i], 3)\n",
        "  productivity[i] = (X[i]/(30*required_hours))*100  #Monthly productivity calculation change 30 by days[i]\n",
        "  productivity[i] = round(productivity[i], 2)\n",
        "  Day[i] = len(X_[i]['Date'].drop_duplicates())  #Get the work day's by vehicle\n",
        "  last[i] = X_[i].sort_values(['Date'], ascending=True, ignore_index=True)\n",
        "  last[i] = last[i]['End Time'].iloc[-1]\n",
        "\n",
        "\n",
        "vehicles = np.array(vehicles, dtype=str)\n",
        "#for i in range(N_Vehicles):\n",
        "  #print(vehicles[i])\n",
        "  #print(X[i], 'hours')\n",
        "  #print(Day[i], 'days')\n",
        "  #print('-----------------')\n"
      ],
      "execution_count": null,
      "outputs": []
    },
    {
      "cell_type": "code",
      "metadata": {
        "colab": {
          "base_uri": "https://localhost:8080/",
          "height": 81
        },
        "id": "RQVo9syhy5SX",
        "outputId": "6dbd9138-47f3-4b4c-d657-83da6328a95e"
      },
      "source": [
        "productivity_M = pd.DataFrame((X, Day, productivity, vehicles)).T   \n",
        "\n",
        "\n",
        "productivity_M = productivity_M.rename(columns={3: 'Vehicle ID', 0: 'Hours', 1: 'Days', 2: 'Utilization (%)'})\n",
        "productivity_M = productivity_M.reindex(columns= ['Vehicle ID', 'Hours', 'Days', 'Utilization (%)'])\n",
        "\n",
        "productivity_M = productivity_M.sort_values(by = 'Vehicle ID')\n",
        "productivity_M = productivity_M.reset_index().drop(['index'], axis=1)\n",
        "\n",
        "#Download utilization data by month (uncomment line 13)\n",
        "\n",
        "productivity_M.to_excel(\"Monthly_Vehicle_Productivity.xlsx\")\n",
        "#files.download('Monthly_Vehicle_Productivity.xlsx')\n",
        "\n",
        "for i in range(productivity_M.shape[0]):\n",
        "  productivity_M['Hours'][i] = timedelta(hours=productivity_M['Hours'][i])\n",
        "  #cstime.strptime(str(productivity_M['Hours'][i]), \"%H:%M:%S\")\n",
        "\n",
        "productivity_M = productivity_M.rename(columns={'Hours': 'Productivity time'})\n",
        "productivity_M = productivity_M.rename(columns={'Days': 'Worked days'})\n",
        "\n",
        "productivity_M"
      ],
      "execution_count": null,
      "outputs": [
        {
          "output_type": "execute_result",
          "data": {
            "text/html": [
              "<div>\n",
              "<style scoped>\n",
              "    .dataframe tbody tr th:only-of-type {\n",
              "        vertical-align: middle;\n",
              "    }\n",
              "\n",
              "    .dataframe tbody tr th {\n",
              "        vertical-align: top;\n",
              "    }\n",
              "\n",
              "    .dataframe thead th {\n",
              "        text-align: right;\n",
              "    }\n",
              "</style>\n",
              "<table border=\"1\" class=\"dataframe\">\n",
              "  <thead>\n",
              "    <tr style=\"text-align: right;\">\n",
              "      <th></th>\n",
              "      <th>Vehicle ID</th>\n",
              "      <th>Productivity time</th>\n",
              "      <th>Worked days</th>\n",
              "      <th>Utilization (%)</th>\n",
              "    </tr>\n",
              "  </thead>\n",
              "  <tbody>\n",
              "    <tr>\n",
              "      <th>0</th>\n",
              "      <td>[1032]</td>\n",
              "      <td>1 day, 13:10:04.800000</td>\n",
              "      <td>7</td>\n",
              "      <td>10.32</td>\n",
              "    </tr>\n",
              "  </tbody>\n",
              "</table>\n",
              "</div>"
            ],
            "text/plain": [
              "  Vehicle ID       Productivity time Worked days Utilization (%)\n",
              "0     [1032]  1 day, 13:10:04.800000           7           10.32"
            ]
          },
          "metadata": {},
          "execution_count": 156
        }
      ]
    },
    {
      "cell_type": "code",
      "metadata": {
        "colab": {
          "base_uri": "https://localhost:8080/",
          "height": 610
        },
        "id": "QmvgqKgWivba",
        "outputId": "d88405f7-da24-41c1-a750-e5e334d29914"
      },
      "source": [
        "# Bar plot by hours\n",
        "\n",
        "def addlabels(x,y):\n",
        "    for i in range(len(y)):\n",
        "        plt.text(i, y[i]//2, y[i], ha = 'center', fontsize=22)\n",
        "\n",
        "y= np.concatenate(productivity_M['Vehicle ID'])\n",
        "x = productivity_M['Hours']\n",
        "\n",
        "fig, ax = plt.subplots()\n",
        "fig.set_size_inches(80, 40)\n",
        "ax.set_ylabel('Worked Hours', fontsize=40)\n",
        "ax.set_xlabel('Vehicle ID', fontsize=40)\n",
        "ax.set_title('Total truck work hours by month', fontsize=80)\n",
        "ax.legend()\n",
        "\n",
        "addlabels(y, x)\n",
        "\n",
        "plt.bar(y, x)\n",
        "plt.xticks(y, x)\n",
        "ax.set_xticklabels(y, fontsize=30)\n",
        "plt.grid(True)\n",
        "plt.savefig('Monthly_Vehicle_Hours.png', bbox_inches='tight')\n",
        "files.download('Monthly_Vehicle_Hours.png')\n",
        "plt.show()"
      ],
      "execution_count": null,
      "outputs": [
        {
          "output_type": "stream",
          "name": "stderr",
          "text": [
            "No handles with labels found to put in legend.\n"
          ]
        },
        {
          "output_type": "display_data",
          "data": {
            "application/javascript": [
              "\n",
              "    async function download(id, filename, size) {\n",
              "      if (!google.colab.kernel.accessAllowed) {\n",
              "        return;\n",
              "      }\n",
              "      const div = document.createElement('div');\n",
              "      const label = document.createElement('label');\n",
              "      label.textContent = `Downloading \"${filename}\": `;\n",
              "      div.appendChild(label);\n",
              "      const progress = document.createElement('progress');\n",
              "      progress.max = size;\n",
              "      div.appendChild(progress);\n",
              "      document.body.appendChild(div);\n",
              "\n",
              "      const buffers = [];\n",
              "      let downloaded = 0;\n",
              "\n",
              "      const channel = await google.colab.kernel.comms.open(id);\n",
              "      // Send a message to notify the kernel that we're ready.\n",
              "      channel.send({})\n",
              "\n",
              "      for await (const message of channel.messages) {\n",
              "        // Send a message to notify the kernel that we're ready.\n",
              "        channel.send({})\n",
              "        if (message.buffers) {\n",
              "          for (const buffer of message.buffers) {\n",
              "            buffers.push(buffer);\n",
              "            downloaded += buffer.byteLength;\n",
              "            progress.value = downloaded;\n",
              "          }\n",
              "        }\n",
              "      }\n",
              "      const blob = new Blob(buffers, {type: 'application/binary'});\n",
              "      const a = document.createElement('a');\n",
              "      a.href = window.URL.createObjectURL(blob);\n",
              "      a.download = filename;\n",
              "      div.appendChild(a);\n",
              "      a.click();\n",
              "      div.remove();\n",
              "    }\n",
              "  "
            ],
            "text/plain": [
              "<IPython.core.display.Javascript object>"
            ]
          },
          "metadata": {}
        },
        {
          "output_type": "display_data",
          "data": {
            "application/javascript": [
              "download(\"download_e4770fde-8fca-4a05-868d-833ac4ddd69e\", \"Monthly_Vehicle_Hours.png\", 103722)"
            ],
            "text/plain": [
              "<IPython.core.display.Javascript object>"
            ]
          },
          "metadata": {}
        },
        {
          "output_type": "display_data",
          "data": {
            "image/png": "[encoded data removed]",
            "text/plain": [
              "<Figure size 5760x2880 with 1 Axes>"
            ]
          },
          "metadata": {
            "needs_background": "light"
          }
        }
      ]
    },
    {
      "cell_type": "code",
      "metadata": {
        "id": "ju9REdnCmRq1",
        "colab": {
          "base_uri": "https://localhost:8080/",
          "height": 1000
        },
        "outputId": "5f7f6385-0aa5-42fe-ce56-e1b7ebbfe22b"
      },
      "source": [
        "\n",
        "productivity_M.plot(kind='barh', x= 'Vehicle ID', y= 'Utilization (%)', figsize=(20,20))\n",
        "plt.grid(True)\n",
        "plt.savefig('Monthly_Vehicles_Utilization.png')\n",
        "files.download('Monthly_Vehicles_Utilization.png')\n",
        "plt.show()\n",
        "\n",
        "#Bar plot by productivity"
      ],
      "execution_count": null,
      "outputs": [
        {
          "output_type": "display_data",
          "data": {
            "application/javascript": [
              "\n",
              "    async function download(id, filename, size) {\n",
              "      if (!google.colab.kernel.accessAllowed) {\n",
              "        return;\n",
              "      }\n",
              "      const div = document.createElement('div');\n",
              "      const label = document.createElement('label');\n",
              "      label.textContent = `Downloading \"${filename}\": `;\n",
              "      div.appendChild(label);\n",
              "      const progress = document.createElement('progress');\n",
              "      progress.max = size;\n",
              "      div.appendChild(progress);\n",
              "      document.body.appendChild(div);\n",
              "\n",
              "      const buffers = [];\n",
              "      let downloaded = 0;\n",
              "\n",
              "      const channel = await google.colab.kernel.comms.open(id);\n",
              "      // Send a message to notify the kernel that we're ready.\n",
              "      channel.send({})\n",
              "\n",
              "      for await (const message of channel.messages) {\n",
              "        // Send a message to notify the kernel that we're ready.\n",
              "        channel.send({})\n",
              "        if (message.buffers) {\n",
              "          for (const buffer of message.buffers) {\n",
              "            buffers.push(buffer);\n",
              "            downloaded += buffer.byteLength;\n",
              "            progress.value = downloaded;\n",
              "          }\n",
              "        }\n",
              "      }\n",
              "      const blob = new Blob(buffers, {type: 'application/binary'});\n",
              "      const a = document.createElement('a');\n",
              "      a.href = window.URL.createObjectURL(blob);\n",
              "      a.download = filename;\n",
              "      div.appendChild(a);\n",
              "      a.click();\n",
              "      div.remove();\n",
              "    }\n",
              "  "
            ],
            "text/plain": [
              "<IPython.core.display.Javascript object>"
            ]
          },
          "metadata": {}
        },
        {
          "output_type": "display_data",
          "data": {
            "application/javascript": [
              "download(\"download_e4e2f748-4e15-4474-b8a6-3fc8ec3f3e6c\", \"Monthly_Vehicles_Utilization.png\", 21160)"
            ],
            "text/plain": [
              "<IPython.core.display.Javascript object>"
            ]
          },
          "metadata": {}
        },
        {
          "output_type": "display_data",
          "data": {
            "image/png": "[encoded data removed]",
            "text/plain": [
              "<Figure size 1440x1440 with 1 Axes>"
            ]
          },
          "metadata": {
            "needs_background": "light"
          }
        }
      ]
    },
    {
      "cell_type": "code",
      "metadata": {
        "colab": {
          "base_uri": "https://localhost:8080/",
          "height": 238
        },
        "id": "p28Tf1QSQ44W",
        "outputId": "9eed49b7-d69b-42ab-9fae-ccb108e2eed1"
      },
      "source": [
        "Table = pd.DataFrame((Day,last, vehicles)).T   \n",
        "Table = Table.rename(columns={1: 'last', 0: 'Days', 2: 'Vehicle ID'})\n",
        "Table = Table.reindex(columns= ['Vehicle ID', 'Days', 'last'])\n",
        "\n",
        "Table = Table.sort_values(by = 'Vehicle ID')\n",
        "Table = Table.reset_index().drop(['index'], axis=1)\n",
        "#Download utilization data by month (uncomment line 60)\n",
        "\n",
        "Table.to_excel(\"Monthly_Last.xlsx\")\n",
        "files.download('Monthly_Last.xlsx')\n",
        "Table"
      ],
      "execution_count": null,
      "outputs": [
        {
          "output_type": "display_data",
          "data": {
            "application/javascript": [
              "\n",
              "    async function download(id, filename, size) {\n",
              "      if (!google.colab.kernel.accessAllowed) {\n",
              "        return;\n",
              "      }\n",
              "      const div = document.createElement('div');\n",
              "      const label = document.createElement('label');\n",
              "      label.textContent = `Downloading \"${filename}\": `;\n",
              "      div.appendChild(label);\n",
              "      const progress = document.createElement('progress');\n",
              "      progress.max = size;\n",
              "      div.appendChild(progress);\n",
              "      document.body.appendChild(div);\n",
              "\n",
              "      const buffers = [];\n",
              "      let downloaded = 0;\n",
              "\n",
              "      const channel = await google.colab.kernel.comms.open(id);\n",
              "      // Send a message to notify the kernel that we're ready.\n",
              "      channel.send({})\n",
              "\n",
              "      for await (const message of channel.messages) {\n",
              "        // Send a message to notify the kernel that we're ready.\n",
              "        channel.send({})\n",
              "        if (message.buffers) {\n",
              "          for (const buffer of message.buffers) {\n",
              "            buffers.push(buffer);\n",
              "            downloaded += buffer.byteLength;\n",
              "            progress.value = downloaded;\n",
              "          }\n",
              "        }\n",
              "      }\n",
              "      const blob = new Blob(buffers, {type: 'application/binary'});\n",
              "      const a = document.createElement('a');\n",
              "      a.href = window.URL.createObjectURL(blob);\n",
              "      a.download = filename;\n",
              "      div.appendChild(a);\n",
              "      a.click();\n",
              "      div.remove();\n",
              "    }\n",
              "  "
            ],
            "text/plain": [
              "<IPython.core.display.Javascript object>"
            ]
          },
          "metadata": {}
        },
        {
          "output_type": "display_data",
          "data": {
            "application/javascript": [
              "download(\"download_e0b12342-039d-4e7d-8923-db9dd9ecf33b\", \"Monthly_Last.xlsx\", 5192)"
            ],
            "text/plain": [
              "<IPython.core.display.Javascript object>"
            ]
          },
          "metadata": {}
        },
        {
          "output_type": "execute_result",
          "data": {
            "text/html": [
              "<div>\n",
              "<style scoped>\n",
              "    .dataframe tbody tr th:only-of-type {\n",
              "        vertical-align: middle;\n",
              "    }\n",
              "\n",
              "    .dataframe tbody tr th {\n",
              "        vertical-align: top;\n",
              "    }\n",
              "\n",
              "    .dataframe thead th {\n",
              "        text-align: right;\n",
              "    }\n",
              "</style>\n",
              "<table border=\"1\" class=\"dataframe\">\n",
              "  <thead>\n",
              "    <tr style=\"text-align: right;\">\n",
              "      <th></th>\n",
              "      <th>Vehicle ID</th>\n",
              "      <th>Days</th>\n",
              "      <th>last</th>\n",
              "    </tr>\n",
              "  </thead>\n",
              "  <tbody>\n",
              "    <tr>\n",
              "      <th>0</th>\n",
              "      <td>[A-FT-10]</td>\n",
              "      <td>18</td>\n",
              "      <td>11/24/2021 13:07:46</td>\n",
              "    </tr>\n",
              "    <tr>\n",
              "      <th>1</th>\n",
              "      <td>[A-FT-11]</td>\n",
              "      <td>18</td>\n",
              "      <td>11/23/2021 14:57:40</td>\n",
              "    </tr>\n",
              "    <tr>\n",
              "      <th>2</th>\n",
              "      <td>[A-FT-12]</td>\n",
              "      <td>16</td>\n",
              "      <td>11/24/2021 10:29:20</td>\n",
              "    </tr>\n",
              "    <tr>\n",
              "      <th>3</th>\n",
              "      <td>[A-FT-13]</td>\n",
              "      <td>14</td>\n",
              "      <td>11/23/2021 10:39:17</td>\n",
              "    </tr>\n",
              "    <tr>\n",
              "      <th>4</th>\n",
              "      <td>[A-FT-9]</td>\n",
              "      <td>18</td>\n",
              "      <td>11/23/2021 14:41:51</td>\n",
              "    </tr>\n",
              "    <tr>\n",
              "      <th>5</th>\n",
              "      <td>[B-FT-4]</td>\n",
              "      <td>12</td>\n",
              "      <td>11/23/2021 08:24:51</td>\n",
              "    </tr>\n",
              "  </tbody>\n",
              "</table>\n",
              "</div>"
            ],
            "text/plain": [
              "  Vehicle ID Days                 last\n",
              "0  [A-FT-10]   18  11/24/2021 13:07:46\n",
              "1  [A-FT-11]   18  11/23/2021 14:57:40\n",
              "2  [A-FT-12]   16  11/24/2021 10:29:20\n",
              "3  [A-FT-13]   14  11/23/2021 10:39:17\n",
              "4   [A-FT-9]   18  11/23/2021 14:41:51\n",
              "5   [B-FT-4]   12  11/23/2021 08:24:51"
            ]
          },
          "metadata": {},
          "execution_count": 26
        }
      ]
    },
    {
      "cell_type": "code",
      "metadata": {
        "colab": {
          "base_uri": "https://localhost:8080/",
          "height": 238
        },
        "id": "lCwQkk2a87Wz",
        "outputId": "16c85f20-209d-4464-99d7-b7c56613deff"
      },
      "source": [
        "productivity_M.insert(4, \"Last worked day\" ,Table['last'])\n",
        "productivity_M\n"
      ],
      "execution_count": null,
      "outputs": [
        {
          "output_type": "execute_result",
          "data": {
            "text/html": [
              "<div>\n",
              "<style scoped>\n",
              "    .dataframe tbody tr th:only-of-type {\n",
              "        vertical-align: middle;\n",
              "    }\n",
              "\n",
              "    .dataframe tbody tr th {\n",
              "        vertical-align: top;\n",
              "    }\n",
              "\n",
              "    .dataframe thead th {\n",
              "        text-align: right;\n",
              "    }\n",
              "</style>\n",
              "<table border=\"1\" class=\"dataframe\">\n",
              "  <thead>\n",
              "    <tr style=\"text-align: right;\">\n",
              "      <th></th>\n",
              "      <th>Vehicle ID</th>\n",
              "      <th>Hours</th>\n",
              "      <th>Days</th>\n",
              "      <th>Utilization (%)</th>\n",
              "      <th>Last worked day</th>\n",
              "    </tr>\n",
              "  </thead>\n",
              "  <tbody>\n",
              "    <tr>\n",
              "      <th>0</th>\n",
              "      <td>[A-FT-10]</td>\n",
              "      <td>41.319</td>\n",
              "      <td>18</td>\n",
              "      <td>9.56</td>\n",
              "      <td>11/24/2021 13:07:46</td>\n",
              "    </tr>\n",
              "    <tr>\n",
              "      <th>1</th>\n",
              "      <td>[A-FT-11]</td>\n",
              "      <td>51.445</td>\n",
              "      <td>18</td>\n",
              "      <td>11.91</td>\n",
              "      <td>11/23/2021 14:57:40</td>\n",
              "    </tr>\n",
              "    <tr>\n",
              "      <th>2</th>\n",
              "      <td>[A-FT-12]</td>\n",
              "      <td>42.741</td>\n",
              "      <td>16</td>\n",
              "      <td>11.13</td>\n",
              "      <td>11/24/2021 10:29:20</td>\n",
              "    </tr>\n",
              "    <tr>\n",
              "      <th>3</th>\n",
              "      <td>[A-FT-13]</td>\n",
              "      <td>10.228</td>\n",
              "      <td>14</td>\n",
              "      <td>3.04</td>\n",
              "      <td>11/23/2021 10:39:17</td>\n",
              "    </tr>\n",
              "    <tr>\n",
              "      <th>4</th>\n",
              "      <td>[A-FT-9]</td>\n",
              "      <td>38.569</td>\n",
              "      <td>18</td>\n",
              "      <td>8.93</td>\n",
              "      <td>11/23/2021 14:41:51</td>\n",
              "    </tr>\n",
              "    <tr>\n",
              "      <th>5</th>\n",
              "      <td>[B-FT-4]</td>\n",
              "      <td>6.007</td>\n",
              "      <td>12</td>\n",
              "      <td>2.09</td>\n",
              "      <td>11/23/2021 08:24:51</td>\n",
              "    </tr>\n",
              "  </tbody>\n",
              "</table>\n",
              "</div>"
            ],
            "text/plain": [
              "  Vehicle ID   Hours Days Utilization (%)      Last worked day\n",
              "0  [A-FT-10]  41.319   18            9.56  11/24/2021 13:07:46\n",
              "1  [A-FT-11]  51.445   18           11.91  11/23/2021 14:57:40\n",
              "2  [A-FT-12]  42.741   16           11.13  11/24/2021 10:29:20\n",
              "3  [A-FT-13]  10.228   14            3.04  11/23/2021 10:39:17\n",
              "4   [A-FT-9]  38.569   18            8.93  11/23/2021 14:41:51\n",
              "5   [B-FT-4]   6.007   12            2.09  11/23/2021 08:24:51"
            ]
          },
          "metadata": {},
          "execution_count": 27
        }
      ]
    },
    {
      "cell_type": "markdown",
      "metadata": {
        "id": "63t5WzOQzNH8"
      },
      "source": [
        "**Data Analysis by week**"
      ]
    },
    {
      "cell_type": "code",
      "metadata": {
        "id": "VLZeTiu4J6b8"
      },
      "source": [
        "#Load data\n",
        "file_2 = 'edited_report_by_driver_BMW.xlsx'\n",
        "df2 = pd.read_excel(file_2)\n",
        "\n",
        "#Data pre-processing\n",
        "df2=df2.drop(['Unnamed: 0'], axis=1)\n",
        "df2['Date'] = df2['Date'].dt.strftime(\"%d/%m/%y\")\n",
        "df2['Duration'] = pd.to_timedelta(df2['Duration'].astype(str))\n",
        "\n",
        "#Sorting DF by date\n",
        "df2 = df2.sort_values(by=['Date'], inplace=False, ascending=True)\n",
        "\n",
        "df2.head()"
      ],
      "execution_count": null,
      "outputs": []
    },
    {
      "cell_type": "code",
      "metadata": {
        "id": "Tk9oYW4IKH17"
      },
      "source": [
        "#Utilization analysis by truck (Weekly)\n",
        "\n",
        "id_ = df2['Vehicle ID']\n",
        "date = df2['Date']\n",
        "vehicles_ = id_.drop_duplicates()\n",
        "vehicles_ = vehicles_.reset_index().drop(['index'], axis=1)\n",
        "N_Vehicles_ = len(vehicles_)\n",
        "\n",
        "contador =0\n",
        "x = [None] * N_Vehicles_\n",
        "#Get month weeks\n",
        "for i in range(1, 32):\n",
        "  if i<=9:\n",
        "    d = str(0)+str(i)\n",
        "  else:\n",
        "    d = str(i)\n",
        "\n",
        "    x = df2[df2['Date'] == '01/08/21']\n",
        " \n",
        "x = pd.DataFrame(x)\n",
        "x.head(200)"
      ],
      "execution_count": null,
      "outputs": []
    }
  ]
}